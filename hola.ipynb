{
 "cells": [
  {
   "cell_type": "code",
   "execution_count": 1,
   "metadata": {},
   "outputs": [],
   "source": [
    "import pickle\n",
    "import pandas as pd\n",
    "import scipy\n",
    "from vaderSentiment.vaderSentiment import SentimentIntensityAnalyzer\n",
    "import src.soporteClean as sc\n",
    "import src.soporteImagenes as si\n",
    "import src.biblioteca as bb\n",
    "import numpy as np\n",
    "from tqdm import tqdm"
   ]
  },
  {
   "cell_type": "code",
   "execution_count": null,
   "metadata": {},
   "outputs": [],
   "source": [
    "keys_scale = bb.dict_keys_scale\n",
    "dict_keys_scale = {\n",
    "    'scale':list(keys_scale.keys()),\n",
    "    'mapping':list(keys_scale.values())\n",
    "}\n",
    "df_keys_scale = pd.DataFrame(dict_keys_scale)\n",
    "df_keys_scale.head(1)"
   ]
  },
  {
   "cell_type": "code",
   "execution_count": null,
   "metadata": {},
   "outputs": [],
   "source": [
    "df_keys_scale[['sentiment', 'sentiment_ratio']] = df_keys_scale.apply(lambda x: sc.sentiment(x.mapping), axis=1, result_type='expand')"
   ]
  },
  {
   "cell_type": "code",
   "execution_count": null,
   "metadata": {},
   "outputs": [],
   "source": [
    "df_keys_scale"
   ]
  },
  {
   "attachments": {},
   "cell_type": "markdown",
   "metadata": {},
   "source": [
    "# importing lyrics data"
   ]
  },
  {
   "cell_type": "code",
   "execution_count": null,
   "metadata": {},
   "outputs": [],
   "source": [
    "with open('data/genius_lyrics.pickle', 'rb') as data_genius:\n",
    "        data_genius = pickle.load(data_genius)"
   ]
  },
  {
   "cell_type": "code",
   "execution_count": null,
   "metadata": {},
   "outputs": [],
   "source": [
    "list(data_genius.keys())"
   ]
  },
  {
   "cell_type": "code",
   "execution_count": null,
   "metadata": {},
   "outputs": [],
   "source": [
    "for key in list(data_genius.keys()):\n",
    "    if key in ['pagina', 'lyrics', 'url']:\n",
    "        continue\n",
    "    else:\n",
    "        del data_genius[key]"
   ]
  },
  {
   "cell_type": "code",
   "execution_count": null,
   "metadata": {},
   "outputs": [],
   "source": [
    "pd.DataFrame(data_genius)"
   ]
  },
  {
   "cell_type": "code",
   "execution_count": null,
   "metadata": {},
   "outputs": [],
   "source": [
    "data_genius = pd.DataFrame(data_genius)\n",
    "data_genius.head(1)"
   ]
  },
  {
   "cell_type": "code",
   "execution_count": null,
   "metadata": {},
   "outputs": [],
   "source": [
    "data_genius.fillna('', axis = 1, inplace=True)"
   ]
  },
  {
   "cell_type": "code",
   "execution_count": null,
   "metadata": {},
   "outputs": [],
   "source": [
    "tqdm.pandas()\n",
    "data_genius[['sentiment', 'sentiment_ratio']] = data_genius.progress_apply(lambda x: sc.sentiment(x.lyrics), axis=1, result_type='expand')"
   ]
  },
  {
   "cell_type": "code",
   "execution_count": null,
   "metadata": {},
   "outputs": [],
   "source": [
    "data_genius[['sentiment']].value_counts()"
   ]
  },
  {
   "cell_type": "code",
   "execution_count": null,
   "metadata": {},
   "outputs": [],
   "source": [
    "data_genius.head(1)"
   ]
  },
  {
   "cell_type": "code",
   "execution_count": null,
   "metadata": {},
   "outputs": [],
   "source": [
    "with open(f'data/genius.pickle', 'wb') as data_genius_:\n",
    "    pickle.dump(data_genius, data_genius_)"
   ]
  },
  {
   "attachments": {},
   "cell_type": "markdown",
   "metadata": {},
   "source": [
    "# importing data"
   ]
  },
  {
   "cell_type": "code",
   "execution_count": null,
   "metadata": {},
   "outputs": [],
   "source": [
    "with open('data/spotify.pickle', 'rb') as data_spotify:\n",
    "        data_spotify = pickle.load(data_spotify)"
   ]
  },
  {
   "cell_type": "code",
   "execution_count": null,
   "metadata": {},
   "outputs": [],
   "source": [
    "data_spotify.head(1)"
   ]
  },
  {
   "attachments": {},
   "cell_type": "markdown",
   "metadata": {},
   "source": [
    "zscore"
   ]
  },
  {
   "cell_type": "code",
   "execution_count": null,
   "metadata": {},
   "outputs": [],
   "source": [
    "data_spotify.select_dtypes(exclude='object').apply(scipy.stats.zscore).abs()"
   ]
  },
  {
   "cell_type": "code",
   "execution_count": null,
   "metadata": {},
   "outputs": [],
   "source": [
    "scipy.stats.zscore(data_spotify['tempo'], axis=0, ddof=0, nan_policy='propagate')"
   ]
  },
  {
   "cell_type": "markdown",
   "metadata": {},
   "source": []
  },
  {
   "cell_type": "code",
   "execution_count": null,
   "metadata": {},
   "outputs": [],
   "source": [
    "df = sc.importDatasets()"
   ]
  },
  {
   "cell_type": "code",
   "execution_count": null,
   "metadata": {},
   "outputs": [],
   "source": [
    "df.select_dtypes(exclude='object', include='float').apply(scipy.stats.zscore).abs()"
   ]
  },
  {
   "cell_type": "code",
   "execution_count": null,
   "metadata": {},
   "outputs": [],
   "source": [
    "df.select_dtypes(include='object')"
   ]
  },
  {
   "cell_type": "code",
   "execution_count": null,
   "metadata": {},
   "outputs": [],
   "source": [
    "si.general_kde(sc.importDatasets(), 'top200', 'mode_mapped')"
   ]
  },
  {
   "cell_type": "code",
   "execution_count": 2,
   "metadata": {},
   "outputs": [
    {
     "data": {
      "text/html": [
       "<div>\n",
       "<style scoped>\n",
       "    .dataframe tbody tr th:only-of-type {\n",
       "        vertical-align: middle;\n",
       "    }\n",
       "\n",
       "    .dataframe tbody tr th {\n",
       "        vertical-align: top;\n",
       "    }\n",
       "\n",
       "    .dataframe thead th {\n",
       "        text-align: right;\n",
       "    }\n",
       "</style>\n",
       "<table border=\"1\" class=\"dataframe\">\n",
       "  <thead>\n",
       "    <tr style=\"text-align: right;\">\n",
       "      <th></th>\n",
       "      <th>streams</th>\n",
       "      <th>age</th>\n",
       "      <th>danceability</th>\n",
       "      <th>energy</th>\n",
       "      <th>key</th>\n",
       "      <th>loudness</th>\n",
       "      <th>mode</th>\n",
       "      <th>speechiness</th>\n",
       "      <th>acousticness</th>\n",
       "      <th>instrumentalness</th>\n",
       "      <th>...</th>\n",
       "      <th>id</th>\n",
       "      <th>track_href</th>\n",
       "      <th>analysis_url</th>\n",
       "      <th>pagina</th>\n",
       "      <th>lyrics</th>\n",
       "      <th>sentiment</th>\n",
       "      <th>date</th>\n",
       "      <th>key_mapped</th>\n",
       "      <th>mode_mapped</th>\n",
       "      <th>scale</th>\n",
       "    </tr>\n",
       "  </thead>\n",
       "  <tbody>\n",
       "    <tr>\n",
       "      <th>0</th>\n",
       "      <td>NaN</td>\n",
       "      <td>NaN</td>\n",
       "      <td>1.587726</td>\n",
       "      <td>0.393915</td>\n",
       "      <td>1.550922</td>\n",
       "      <td>0.570713</td>\n",
       "      <td>0.806201</td>\n",
       "      <td>0.898029</td>\n",
       "      <td>0.697836</td>\n",
       "      <td>0.159839</td>\n",
       "      <td>...</td>\n",
       "      <td>NaN</td>\n",
       "      <td>NaN</td>\n",
       "      <td>NaN</td>\n",
       "      <td>NaN</td>\n",
       "      <td>NaN</td>\n",
       "      <td>NaN</td>\n",
       "      <td>NaN</td>\n",
       "      <td>NaN</td>\n",
       "      <td>NaN</td>\n",
       "      <td>NaN</td>\n",
       "    </tr>\n",
       "    <tr>\n",
       "      <th>1</th>\n",
       "      <td>NaN</td>\n",
       "      <td>NaN</td>\n",
       "      <td>0.201549</td>\n",
       "      <td>0.432549</td>\n",
       "      <td>1.550922</td>\n",
       "      <td>0.197672</td>\n",
       "      <td>0.806201</td>\n",
       "      <td>0.335244</td>\n",
       "      <td>0.639548</td>\n",
       "      <td>0.159839</td>\n",
       "      <td>...</td>\n",
       "      <td>NaN</td>\n",
       "      <td>NaN</td>\n",
       "      <td>NaN</td>\n",
       "      <td>NaN</td>\n",
       "      <td>NaN</td>\n",
       "      <td>NaN</td>\n",
       "      <td>NaN</td>\n",
       "      <td>NaN</td>\n",
       "      <td>NaN</td>\n",
       "      <td>NaN</td>\n",
       "    </tr>\n",
       "    <tr>\n",
       "      <th>2</th>\n",
       "      <td>NaN</td>\n",
       "      <td>NaN</td>\n",
       "      <td>0.336371</td>\n",
       "      <td>2.059367</td>\n",
       "      <td>1.550922</td>\n",
       "      <td>1.296205</td>\n",
       "      <td>0.806201</td>\n",
       "      <td>0.431000</td>\n",
       "      <td>0.934832</td>\n",
       "      <td>0.159819</td>\n",
       "      <td>...</td>\n",
       "      <td>NaN</td>\n",
       "      <td>NaN</td>\n",
       "      <td>NaN</td>\n",
       "      <td>NaN</td>\n",
       "      <td>NaN</td>\n",
       "      <td>NaN</td>\n",
       "      <td>NaN</td>\n",
       "      <td>NaN</td>\n",
       "      <td>NaN</td>\n",
       "      <td>NaN</td>\n",
       "    </tr>\n",
       "    <tr>\n",
       "      <th>3</th>\n",
       "      <td>NaN</td>\n",
       "      <td>NaN</td>\n",
       "      <td>0.770844</td>\n",
       "      <td>0.606793</td>\n",
       "      <td>1.550922</td>\n",
       "      <td>0.990182</td>\n",
       "      <td>0.806201</td>\n",
       "      <td>0.739731</td>\n",
       "      <td>0.466751</td>\n",
       "      <td>0.159839</td>\n",
       "      <td>...</td>\n",
       "      <td>NaN</td>\n",
       "      <td>NaN</td>\n",
       "      <td>NaN</td>\n",
       "      <td>NaN</td>\n",
       "      <td>NaN</td>\n",
       "      <td>NaN</td>\n",
       "      <td>NaN</td>\n",
       "      <td>NaN</td>\n",
       "      <td>NaN</td>\n",
       "      <td>NaN</td>\n",
       "    </tr>\n",
       "    <tr>\n",
       "      <th>4</th>\n",
       "      <td>NaN</td>\n",
       "      <td>NaN</td>\n",
       "      <td>0.125688</td>\n",
       "      <td>0.105905</td>\n",
       "      <td>1.550922</td>\n",
       "      <td>0.679315</td>\n",
       "      <td>0.806201</td>\n",
       "      <td>1.327280</td>\n",
       "      <td>0.028558</td>\n",
       "      <td>0.159839</td>\n",
       "      <td>...</td>\n",
       "      <td>NaN</td>\n",
       "      <td>NaN</td>\n",
       "      <td>NaN</td>\n",
       "      <td>NaN</td>\n",
       "      <td>NaN</td>\n",
       "      <td>NaN</td>\n",
       "      <td>NaN</td>\n",
       "      <td>NaN</td>\n",
       "      <td>NaN</td>\n",
       "      <td>NaN</td>\n",
       "    </tr>\n",
       "    <tr>\n",
       "      <th>...</th>\n",
       "      <td>...</td>\n",
       "      <td>...</td>\n",
       "      <td>...</td>\n",
       "      <td>...</td>\n",
       "      <td>...</td>\n",
       "      <td>...</td>\n",
       "      <td>...</td>\n",
       "      <td>...</td>\n",
       "      <td>...</td>\n",
       "      <td>...</td>\n",
       "      <td>...</td>\n",
       "      <td>...</td>\n",
       "      <td>...</td>\n",
       "      <td>...</td>\n",
       "      <td>...</td>\n",
       "      <td>...</td>\n",
       "      <td>...</td>\n",
       "      <td>...</td>\n",
       "      <td>...</td>\n",
       "      <td>...</td>\n",
       "      <td>...</td>\n",
       "    </tr>\n",
       "    <tr>\n",
       "      <th>452604</th>\n",
       "      <td>NaN</td>\n",
       "      <td>NaN</td>\n",
       "      <td>NaN</td>\n",
       "      <td>NaN</td>\n",
       "      <td>NaN</td>\n",
       "      <td>NaN</td>\n",
       "      <td>NaN</td>\n",
       "      <td>NaN</td>\n",
       "      <td>NaN</td>\n",
       "      <td>NaN</td>\n",
       "      <td>...</td>\n",
       "      <td>3s44Qv8x974tm0ueLexMWN</td>\n",
       "      <td>https://api.spotify.com/v1/tracks/3s44Qv8x974t...</td>\n",
       "      <td>https://api.spotify.com/v1/audio-analysis/3s44...</td>\n",
       "      <td>\\n\\n\\nBo Burnham – Welcome to the Internet Lyr...</td>\n",
       "      <td>[Verse 1]Welcome to the internet! Have a look ...</td>\n",
       "      <td>Negative</td>\n",
       "      <td>2021-7</td>\n",
       "      <td>D</td>\n",
       "      <td>Minor</td>\n",
       "      <td>D Minor</td>\n",
       "    </tr>\n",
       "    <tr>\n",
       "      <th>452605</th>\n",
       "      <td>NaN</td>\n",
       "      <td>NaN</td>\n",
       "      <td>NaN</td>\n",
       "      <td>NaN</td>\n",
       "      <td>NaN</td>\n",
       "      <td>NaN</td>\n",
       "      <td>NaN</td>\n",
       "      <td>NaN</td>\n",
       "      <td>NaN</td>\n",
       "      <td>NaN</td>\n",
       "      <td>...</td>\n",
       "      <td>3s44Qv8x974tm0ueLexMWN</td>\n",
       "      <td>https://api.spotify.com/v1/tracks/3s44Qv8x974t...</td>\n",
       "      <td>https://api.spotify.com/v1/audio-analysis/3s44...</td>\n",
       "      <td>\\n\\n\\nBo Burnham – Welcome to the Internet Lyr...</td>\n",
       "      <td>[Verse 1]Welcome to the internet! Have a look ...</td>\n",
       "      <td>Negative</td>\n",
       "      <td>2021-7</td>\n",
       "      <td>D</td>\n",
       "      <td>Minor</td>\n",
       "      <td>D Minor</td>\n",
       "    </tr>\n",
       "    <tr>\n",
       "      <th>452606</th>\n",
       "      <td>NaN</td>\n",
       "      <td>NaN</td>\n",
       "      <td>NaN</td>\n",
       "      <td>NaN</td>\n",
       "      <td>NaN</td>\n",
       "      <td>NaN</td>\n",
       "      <td>NaN</td>\n",
       "      <td>NaN</td>\n",
       "      <td>NaN</td>\n",
       "      <td>NaN</td>\n",
       "      <td>...</td>\n",
       "      <td>3s44Qv8x974tm0ueLexMWN</td>\n",
       "      <td>https://api.spotify.com/v1/tracks/3s44Qv8x974t...</td>\n",
       "      <td>https://api.spotify.com/v1/audio-analysis/3s44...</td>\n",
       "      <td>\\n\\n\\nBo Burnham – Welcome to the Internet Lyr...</td>\n",
       "      <td>[Verse 1]Welcome to the internet! Have a look ...</td>\n",
       "      <td>Negative</td>\n",
       "      <td>2021-7</td>\n",
       "      <td>D</td>\n",
       "      <td>Minor</td>\n",
       "      <td>D Minor</td>\n",
       "    </tr>\n",
       "    <tr>\n",
       "      <th>452607</th>\n",
       "      <td>NaN</td>\n",
       "      <td>NaN</td>\n",
       "      <td>NaN</td>\n",
       "      <td>NaN</td>\n",
       "      <td>NaN</td>\n",
       "      <td>NaN</td>\n",
       "      <td>NaN</td>\n",
       "      <td>NaN</td>\n",
       "      <td>NaN</td>\n",
       "      <td>NaN</td>\n",
       "      <td>...</td>\n",
       "      <td>3s44Qv8x974tm0ueLexMWN</td>\n",
       "      <td>https://api.spotify.com/v1/tracks/3s44Qv8x974t...</td>\n",
       "      <td>https://api.spotify.com/v1/audio-analysis/3s44...</td>\n",
       "      <td>\\n\\n\\nBo Burnham – Welcome to the Internet Lyr...</td>\n",
       "      <td>[Verse 1]Welcome to the internet! Have a look ...</td>\n",
       "      <td>Negative</td>\n",
       "      <td>2021-7</td>\n",
       "      <td>D</td>\n",
       "      <td>Minor</td>\n",
       "      <td>D Minor</td>\n",
       "    </tr>\n",
       "    <tr>\n",
       "      <th>452608</th>\n",
       "      <td>NaN</td>\n",
       "      <td>NaN</td>\n",
       "      <td>NaN</td>\n",
       "      <td>NaN</td>\n",
       "      <td>NaN</td>\n",
       "      <td>NaN</td>\n",
       "      <td>NaN</td>\n",
       "      <td>NaN</td>\n",
       "      <td>NaN</td>\n",
       "      <td>NaN</td>\n",
       "      <td>...</td>\n",
       "      <td>3s44Qv8x974tm0ueLexMWN</td>\n",
       "      <td>https://api.spotify.com/v1/tracks/3s44Qv8x974t...</td>\n",
       "      <td>https://api.spotify.com/v1/audio-analysis/3s44...</td>\n",
       "      <td>\\n\\n\\nBo Burnham – Welcome to the Internet Lyr...</td>\n",
       "      <td>[Verse 1]Welcome to the internet! Have a look ...</td>\n",
       "      <td>Negative</td>\n",
       "      <td>2021-7</td>\n",
       "      <td>D</td>\n",
       "      <td>Minor</td>\n",
       "      <td>D Minor</td>\n",
       "    </tr>\n",
       "  </tbody>\n",
       "</table>\n",
       "<p>905218 rows × 55 columns</p>\n",
       "</div>"
      ],
      "text/plain": [
       "        streams  age  danceability    energy       key  loudness      mode  \\\n",
       "0           NaN  NaN      1.587726  0.393915  1.550922  0.570713  0.806201   \n",
       "1           NaN  NaN      0.201549  0.432549  1.550922  0.197672  0.806201   \n",
       "2           NaN  NaN      0.336371  2.059367  1.550922  1.296205  0.806201   \n",
       "3           NaN  NaN      0.770844  0.606793  1.550922  0.990182  0.806201   \n",
       "4           NaN  NaN      0.125688  0.105905  1.550922  0.679315  0.806201   \n",
       "...         ...  ...           ...       ...       ...       ...       ...   \n",
       "452604      NaN  NaN           NaN       NaN       NaN       NaN       NaN   \n",
       "452605      NaN  NaN           NaN       NaN       NaN       NaN       NaN   \n",
       "452606      NaN  NaN           NaN       NaN       NaN       NaN       NaN   \n",
       "452607      NaN  NaN           NaN       NaN       NaN       NaN       NaN   \n",
       "452608      NaN  NaN           NaN       NaN       NaN       NaN       NaN   \n",
       "\n",
       "        speechiness  acousticness  instrumentalness  ...  \\\n",
       "0          0.898029      0.697836          0.159839  ...   \n",
       "1          0.335244      0.639548          0.159839  ...   \n",
       "2          0.431000      0.934832          0.159819  ...   \n",
       "3          0.739731      0.466751          0.159839  ...   \n",
       "4          1.327280      0.028558          0.159839  ...   \n",
       "...             ...           ...               ...  ...   \n",
       "452604          NaN           NaN               NaN  ...   \n",
       "452605          NaN           NaN               NaN  ...   \n",
       "452606          NaN           NaN               NaN  ...   \n",
       "452607          NaN           NaN               NaN  ...   \n",
       "452608          NaN           NaN               NaN  ...   \n",
       "\n",
       "                            id  \\\n",
       "0                          NaN   \n",
       "1                          NaN   \n",
       "2                          NaN   \n",
       "3                          NaN   \n",
       "4                          NaN   \n",
       "...                        ...   \n",
       "452604  3s44Qv8x974tm0ueLexMWN   \n",
       "452605  3s44Qv8x974tm0ueLexMWN   \n",
       "452606  3s44Qv8x974tm0ueLexMWN   \n",
       "452607  3s44Qv8x974tm0ueLexMWN   \n",
       "452608  3s44Qv8x974tm0ueLexMWN   \n",
       "\n",
       "                                               track_href  \\\n",
       "0                                                     NaN   \n",
       "1                                                     NaN   \n",
       "2                                                     NaN   \n",
       "3                                                     NaN   \n",
       "4                                                     NaN   \n",
       "...                                                   ...   \n",
       "452604  https://api.spotify.com/v1/tracks/3s44Qv8x974t...   \n",
       "452605  https://api.spotify.com/v1/tracks/3s44Qv8x974t...   \n",
       "452606  https://api.spotify.com/v1/tracks/3s44Qv8x974t...   \n",
       "452607  https://api.spotify.com/v1/tracks/3s44Qv8x974t...   \n",
       "452608  https://api.spotify.com/v1/tracks/3s44Qv8x974t...   \n",
       "\n",
       "                                             analysis_url  \\\n",
       "0                                                     NaN   \n",
       "1                                                     NaN   \n",
       "2                                                     NaN   \n",
       "3                                                     NaN   \n",
       "4                                                     NaN   \n",
       "...                                                   ...   \n",
       "452604  https://api.spotify.com/v1/audio-analysis/3s44...   \n",
       "452605  https://api.spotify.com/v1/audio-analysis/3s44...   \n",
       "452606  https://api.spotify.com/v1/audio-analysis/3s44...   \n",
       "452607  https://api.spotify.com/v1/audio-analysis/3s44...   \n",
       "452608  https://api.spotify.com/v1/audio-analysis/3s44...   \n",
       "\n",
       "                                                   pagina  \\\n",
       "0                                                     NaN   \n",
       "1                                                     NaN   \n",
       "2                                                     NaN   \n",
       "3                                                     NaN   \n",
       "4                                                     NaN   \n",
       "...                                                   ...   \n",
       "452604  \\n\\n\\nBo Burnham – Welcome to the Internet Lyr...   \n",
       "452605  \\n\\n\\nBo Burnham – Welcome to the Internet Lyr...   \n",
       "452606  \\n\\n\\nBo Burnham – Welcome to the Internet Lyr...   \n",
       "452607  \\n\\n\\nBo Burnham – Welcome to the Internet Lyr...   \n",
       "452608  \\n\\n\\nBo Burnham – Welcome to the Internet Lyr...   \n",
       "\n",
       "                                                   lyrics  sentiment    date  \\\n",
       "0                                                     NaN        NaN     NaN   \n",
       "1                                                     NaN        NaN     NaN   \n",
       "2                                                     NaN        NaN     NaN   \n",
       "3                                                     NaN        NaN     NaN   \n",
       "4                                                     NaN        NaN     NaN   \n",
       "...                                                   ...        ...     ...   \n",
       "452604  [Verse 1]Welcome to the internet! Have a look ...   Negative  2021-7   \n",
       "452605  [Verse 1]Welcome to the internet! Have a look ...   Negative  2021-7   \n",
       "452606  [Verse 1]Welcome to the internet! Have a look ...   Negative  2021-7   \n",
       "452607  [Verse 1]Welcome to the internet! Have a look ...   Negative  2021-7   \n",
       "452608  [Verse 1]Welcome to the internet! Have a look ...   Negative  2021-7   \n",
       "\n",
       "       key_mapped mode_mapped    scale  \n",
       "0             NaN         NaN      NaN  \n",
       "1             NaN         NaN      NaN  \n",
       "2             NaN         NaN      NaN  \n",
       "3             NaN         NaN      NaN  \n",
       "4             NaN         NaN      NaN  \n",
       "...           ...         ...      ...  \n",
       "452604          D       Minor  D Minor  \n",
       "452605          D       Minor  D Minor  \n",
       "452606          D       Minor  D Minor  \n",
       "452607          D       Minor  D Minor  \n",
       "452608          D       Minor  D Minor  \n",
       "\n",
       "[905218 rows x 55 columns]"
      ]
     },
     "execution_count": 2,
     "metadata": {},
     "output_type": "execute_result"
    }
   ],
   "source": [
    "sc.columnasHomogeneas(sc.importDatasets())"
   ]
  },
  {
   "cell_type": "code",
   "execution_count": null,
   "id": "122f85ea",
   "metadata": {},
   "outputs": [],
   "source": [
    "## me zumbo los valores que no son homogéneos\n",
    "df_numeric  = final.select_dtypes(include = np.number).drop(['loudness', 'key', 'popularity', 'tempo', 'mode', 'duration_ms', 'time_signature'], axis =  1)\n",
    "df_numeric.head()"
   ]
  },
  {
   "cell_type": "code",
   "execution_count": null,
   "id": "53af81c8",
   "metadata": {},
   "outputs": [],
   "source": [
    "valor = df_numeric.mean().tolist()\n",
    "valor"
   ]
  },
  {
   "cell_type": "code",
   "execution_count": null,
   "id": "875eb88a",
   "metadata": {},
   "outputs": [],
   "source": [
    "label = df_numeric.columns.tolist()\n",
    "label"
   ]
  },
  {
   "cell_type": "code",
   "execution_count": null,
   "id": "52b09d9d",
   "metadata": {},
   "outputs": [],
   "source": [
    "valor.append(valor[0])\n",
    "label.append(label[0])\n",
    "print(valor, label)"
   ]
  },
  {
   "cell_type": "code",
   "execution_count": null,
   "id": "b49dd477",
   "metadata": {},
   "outputs": [],
   "source": [
    "N = len(label)\n",
    "N"
   ]
  },
  {
   "cell_type": "code",
   "execution_count": null,
   "id": "0345fd90",
   "metadata": {},
   "outputs": [],
   "source": [
    "angulos = [n/float(N)*2*np.pi for n in range(N)]\n",
    "angulos"
   ]
  },
  {
   "cell_type": "code",
   "execution_count": null,
   "id": "aeea59c2",
   "metadata": {},
   "outputs": [],
   "source": [
    "import matplotlib.pyplot as plt\n",
    "\n",
    "plt.polar(angulos, valor)\n",
    "plt.fill(angulos, valor, color = 'green', alpha = 0.25)\n",
    "plt.yticks(size = 0)\n",
    "plt.xticks(angulos[:-1], label[:-1]);"
   ]
  }
 ],
 "metadata": {
  "kernelspec": {
   "display_name": "stream",
   "language": "python",
   "name": "python3"
  },
  "language_info": {
   "codemirror_mode": {
    "name": "ipython",
    "version": 3
   },
   "file_extension": ".py",
   "mimetype": "text/x-python",
   "name": "python",
   "nbconvert_exporter": "python",
   "pygments_lexer": "ipython3",
   "version": "3.10.9"
  },
  "orig_nbformat": 4,
  "vscode": {
   "interpreter": {
    "hash": "45d02e5b532a0b7a4a053e877e0639260084f48cb506d4fb3f87ec481ab84ee0"
   }
  }
 },
 "nbformat": 4,
 "nbformat_minor": 2
}
